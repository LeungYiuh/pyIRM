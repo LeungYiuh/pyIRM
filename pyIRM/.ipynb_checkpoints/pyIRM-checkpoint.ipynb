{
 "cells": [
  {
   "cell_type": "code",
   "execution_count": 12,
   "metadata": {},
   "outputs": [],
   "source": [
    "%matplotlib inline\n",
    "from pyIRM import loadData,dataFit\n",
    "from matplotlib import pyplot as plt"
   ]
  },
  {
   "cell_type": "code",
   "execution_count": 17,
   "metadata": {},
   "outputs": [],
   "source": [
    "def fit_plots(ax,xfit,xraw,yfit,yraw):\n",
    "    '''\n",
    "    #====================================================================\n",
    "    plot the fitted results for data fit and refit\n",
    "    #====================================================================\n",
    "    '''\n",
    "    global _yfits_\n",
    "    _yfits_ = yfit\n",
    "    #ax.plot(xfit, yfit)\n",
    "    #ax.plot(xfit, np.sum(yfit,axis=1))\n",
    "    ax.scatter(xraw, yraw)\n",
    "    ax.set_xlabel('Field (log10(mT))')\n",
    "    ax.set_ylabel('IRM normalization')"
   ]
  },
  {
   "cell_type": "code",
   "execution_count": 27,
   "metadata": {},
   "outputs": [
    {
     "data": {
      "text/plain": [
       "<matplotlib.collections.PathCollection at 0x7f512f3c3b70>"
      ]
     },
     "execution_count": 27,
     "metadata": {},
     "output_type": "execute_result"
    }
   ],
   "source": [
    "fitResult = dataFit(filePath='../example/py_irm_example.dat',fitNumber=3)\n",
    "\n",
    "xfit=fitResult.fitDf['field'],\n",
    "xraw=fitResult.rawDf['field_log'],\n",
    "yfit=fitResult.pdf_best,\n",
    "yraw=fitResult.rawDf['rem_grad_norm']\n",
    "\n",
    "#print(yfit)\n",
    "\n",
    "fig = plt.figure()\n",
    "ax = fig.add_subplot(111)\n",
    "ax.scatter(xraw, yraw)"
   ]
  },
  {
   "cell_type": "code",
   "execution_count": null,
   "metadata": {},
   "outputs": [],
   "source": []
  }
 ],
 "metadata": {
  "kernelspec": {
   "display_name": "Python 3",
   "language": "python",
   "name": "python3"
  },
  "language_info": {
   "codemirror_mode": {
    "name": "ipython",
    "version": 3
   },
   "file_extension": ".py",
   "mimetype": "text/x-python",
   "name": "python",
   "nbconvert_exporter": "python",
   "pygments_lexer": "ipython3",
   "version": "3.5.2"
  }
 },
 "nbformat": 4,
 "nbformat_minor": 2
}
